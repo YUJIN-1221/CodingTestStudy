{
 "cells": [
  {
   "cell_type": "code",
   "execution_count": 4,
   "id": "fbf5de4b",
   "metadata": {},
   "outputs": [
    {
     "name": "stdout",
     "output_type": "stream",
     "text": [
      "3 5\n",
      "7\n"
     ]
    }
   ],
   "source": [
    "a, b = input().split()\n",
    "a, b = int(a),int(b)\n",
    "\n",
    "print(a|b)"
   ]
  },
  {
   "cell_type": "code",
   "execution_count": 5,
   "id": "ca90db0d",
   "metadata": {},
   "outputs": [
    {
     "name": "stdout",
     "output_type": "stream",
     "text": [
      "3 5\n",
      "6\n"
     ]
    }
   ],
   "source": [
    "a, b = input().split()\n",
    "a, b = int(a),int(b)\n",
    "\n",
    "print(a^b)"
   ]
  },
  {
   "cell_type": "code",
   "execution_count": 6,
   "id": "71224318",
   "metadata": {},
   "outputs": [
    {
     "name": "stdout",
     "output_type": "stream",
     "text": [
      "123 456\n",
      "456\n"
     ]
    }
   ],
   "source": [
    "a, b = input().split()\n",
    "a, b = int(a),int(b) \n",
    "\n",
    "print(a if (a>=b) else b)"
   ]
  },
  {
   "cell_type": "code",
   "execution_count": 7,
   "id": "93339165",
   "metadata": {},
   "outputs": [
    {
     "name": "stdout",
     "output_type": "stream",
     "text": [
      "3 -1 5\n",
      "-1\n"
     ]
    }
   ],
   "source": [
    "a, b, c = input().split()\n",
    "a, b, c = int(a),int(b),int(c)\n",
    "\n",
    "if (a<b) & (a<c):\n",
    "    print(a)\n",
    "elif (b<c) & (b<a):\n",
    "    print(b)\n",
    "else:\n",
    "    print(c)"
   ]
  },
  {
   "cell_type": "code",
   "execution_count": 8,
   "id": "5f773971",
   "metadata": {},
   "outputs": [
    {
     "name": "stdout",
     "output_type": "stream",
     "text": [
      "1 2 4\n",
      "2\n",
      "4\n"
     ]
    }
   ],
   "source": [
    "a, b, c = input().split()\n",
    "a, b, c = int(a),int(b),int(c)\n",
    "\n",
    "for i in [a,b,c]:\n",
    "    if i % 2 == 0:\n",
    "        print(i)"
   ]
  },
  {
   "cell_type": "code",
   "execution_count": 9,
   "id": "96862787",
   "metadata": {},
   "outputs": [
    {
     "name": "stdout",
     "output_type": "stream",
     "text": [
      "1 2 8\n",
      "odd\n",
      "even\n",
      "even\n"
     ]
    }
   ],
   "source": [
    "a, b, c = input().split()\n",
    "a, b, c = int(a),int(b),int(c)\n",
    "\n",
    "for i in [a,b,c]:\n",
    "    if i % 2 == 0:\n",
    "        print('even')\n",
    "    else:\n",
    "        print('odd')"
   ]
  },
  {
   "cell_type": "code",
   "execution_count": 11,
   "id": "6b8642b9",
   "metadata": {},
   "outputs": [
    {
     "name": "stdout",
     "output_type": "stream",
     "text": [
      "-2147483648\n",
      "A\n"
     ]
    }
   ],
   "source": [
    "n = int(input())\n",
    "\n",
    "if n<0 :\n",
    "    if n%2==0 :\n",
    "        print('A')\n",
    "    else :\n",
    "        print('B')\n",
    "else :\n",
    "    if n%2==0 :\n",
    "        print('C')\n",
    "    else :\n",
    "        print('D')"
   ]
  },
  {
   "cell_type": "code",
   "execution_count": 12,
   "id": "39f4958e",
   "metadata": {},
   "outputs": [
    {
     "name": "stdout",
     "output_type": "stream",
     "text": [
      "95\n",
      "A\n"
     ]
    }
   ],
   "source": [
    "n = int(input())\n",
    "\n",
    "if n>=90 :\n",
    "    print('A')\n",
    "else :\n",
    "    if n>=70 :\n",
    "        print('B')\n",
    "    else :\n",
    "        if n>=40 :\n",
    "            print('C')\n",
    "        else :\n",
    "            print('D') "
   ]
  },
  {
   "cell_type": "code",
   "execution_count": 15,
   "id": "0d41b4bb",
   "metadata": {},
   "outputs": [
    {
     "name": "stdout",
     "output_type": "stream",
     "text": [
      "A\n",
      "best!!!\n"
     ]
    }
   ],
   "source": [
    "a = input()\n",
    "\n",
    "if a == 'A':\n",
    "    print('best!!!')\n",
    "elif a == 'B':\n",
    "    print('good!!')\n",
    "elif a == 'C':\n",
    "    print('run!')\n",
    "elif a == 'D': \n",
    "    print('slowly~')\n",
    "else:\n",
    "    print('what?')"
   ]
  },
  {
   "cell_type": "code",
   "execution_count": 16,
   "id": "79547b89",
   "metadata": {},
   "outputs": [
    {
     "name": "stdout",
     "output_type": "stream",
     "text": [
      "12\n",
      "winter\n"
     ]
    }
   ],
   "source": [
    "a = int(input())\n",
    "\n",
    "if a // 3 == 1:\n",
    "    print('spring')\n",
    "elif a // 3 == 2:\n",
    "    print('summer')\n",
    "elif a // 3 == 3:\n",
    "    print('fall')\n",
    "else:\n",
    "    print('winter')"
   ]
  },
  {
   "cell_type": "code",
   "execution_count": 17,
   "id": "cc5a365d",
   "metadata": {},
   "outputs": [
    {
     "name": "stdout",
     "output_type": "stream",
     "text": [
      "7\n",
      "7\n",
      "4\n",
      "4\n",
      "2\n",
      "2\n",
      "3\n",
      "3\n",
      "0\n"
     ]
    }
   ],
   "source": [
    "n = 1\n",
    "\n",
    "while n != 0:\n",
    "    n = int(input())\n",
    "    if n != 0:\n",
    "        print(n)"
   ]
  },
  {
   "cell_type": "code",
   "execution_count": 19,
   "id": "1b55cbfc",
   "metadata": {},
   "outputs": [
    {
     "name": "stdout",
     "output_type": "stream",
     "text": [
      "5\n",
      "5\n",
      "4\n",
      "3\n",
      "2\n",
      "1\n"
     ]
    }
   ],
   "source": [
    "n = int(input())\n",
    "\n",
    "while True:\n",
    "    print(n)\n",
    "    n -= 1\n",
    "    if n == 0:\n",
    "        break"
   ]
  },
  {
   "cell_type": "code",
   "execution_count": 20,
   "id": "6e31029c",
   "metadata": {},
   "outputs": [
    {
     "name": "stdout",
     "output_type": "stream",
     "text": [
      "5\n",
      "4\n",
      "3\n",
      "2\n",
      "1\n",
      "0\n"
     ]
    }
   ],
   "source": [
    "n = int(input())\n",
    "\n",
    "while True:\n",
    "    n -= 1\n",
    "    print(n)\n",
    "    if n == 0:\n",
    "        break"
   ]
  },
  {
   "cell_type": "code",
   "execution_count": 22,
   "id": "3babe365",
   "metadata": {},
   "outputs": [
    {
     "name": "stdout",
     "output_type": "stream",
     "text": [
      "f\n",
      "a b c d e f "
     ]
    }
   ],
   "source": [
    "c =  ord(input())\n",
    "\n",
    "t = ord('a')\n",
    "while t <= c:\n",
    "    print(chr(t), end = ' ')\n",
    "    t += 1"
   ]
  },
  {
   "cell_type": "code",
   "execution_count": 23,
   "id": "a3e6e912",
   "metadata": {},
   "outputs": [
    {
     "name": "stdout",
     "output_type": "stream",
     "text": [
      "4\n",
      "0\n",
      "1\n",
      "2\n",
      "3\n",
      "4\n"
     ]
    }
   ],
   "source": [
    "n = int(input())\n",
    "\n",
    "a = 0\n",
    "while True:\n",
    "    print(a)\n",
    "    a += 1\n",
    "    if a > n:\n",
    "        break"
   ]
  },
  {
   "cell_type": "code",
   "execution_count": 25,
   "id": "37fc8c13",
   "metadata": {},
   "outputs": [
    {
     "name": "stdout",
     "output_type": "stream",
     "text": [
      "4\n",
      "0\n",
      "1\n",
      "2\n",
      "3\n",
      "4\n"
     ]
    }
   ],
   "source": [
    "n = int(input())\n",
    "\n",
    "for i in range(n+1):\n",
    "    print(i)"
   ]
  },
  {
   "cell_type": "code",
   "execution_count": 28,
   "id": "96fff44f",
   "metadata": {},
   "outputs": [
    {
     "name": "stdout",
     "output_type": "stream",
     "text": [
      "5\n",
      "6\n"
     ]
    }
   ],
   "source": [
    "n = int(input())\n",
    "\n",
    "a = 0\n",
    "summation = 0\n",
    "while True:\n",
    "    a += 2\n",
    "    if a > n:\n",
    "        print(summation)\n",
    "        break\n",
    "    summation += a\n",
    "    \n",
    "    \n",
    "## 시간 초과  ## \n",
    "# n = int(input())\n",
    "\n",
    "# a = 0\n",
    "# summation = 0\n",
    "# while True:\n",
    "#     a += 1\n",
    "#     if a % 2 == 0:\n",
    "#         summation += a\n",
    "#     else:\n",
    "#         pass\n",
    "#     if a == n:\n",
    "#         print(summation)\n",
    "#         break"
   ]
  },
  {
   "cell_type": "code",
   "execution_count": 30,
   "id": "85063eab",
   "metadata": {},
   "outputs": [
    {
     "name": "stdout",
     "output_type": "stream",
     "text": [
      "a\n",
      "a\n",
      "s\n",
      "s\n",
      "d\n",
      "d\n",
      "f\n",
      "f\n",
      "g\n",
      "g\n",
      "q\n",
      "q\n"
     ]
    }
   ],
   "source": [
    "while True:\n",
    "    c = input()\n",
    "    print(c)\n",
    "    if c == 'q':\n",
    "        break"
   ]
  },
  {
   "cell_type": "code",
   "execution_count": 39,
   "id": "8bdf70ab",
   "metadata": {},
   "outputs": [
    {
     "name": "stdout",
     "output_type": "stream",
     "text": [
      "55\n",
      "10\n"
     ]
    }
   ],
   "source": [
    "target = int(input())\n",
    "n = 0\n",
    "summation = 0\n",
    "while True:\n",
    "    n += 1\n",
    "    summation += n\n",
    "    if summation >= target:\n",
    "        print(n)\n",
    "        break"
   ]
  },
  {
   "cell_type": "code",
   "execution_count": 40,
   "id": "f120f62c",
   "metadata": {},
   "outputs": [
    {
     "name": "stdout",
     "output_type": "stream",
     "text": [
      "2 3\n",
      "1 1\n",
      "1 2\n",
      "1 3\n",
      "2 1\n",
      "2 2\n",
      "2 3\n"
     ]
    }
   ],
   "source": [
    "n, m = input().split()\n",
    "n, m = int(n), int(m)\n",
    "\n",
    "for i in range(1, n+1) :\n",
    "    for j in range(1, m+1) :\n",
    "        print(i, j)"
   ]
  },
  {
   "cell_type": "code",
   "execution_count": 41,
   "id": "999c27d7",
   "metadata": {},
   "outputs": [
    {
     "name": "stdout",
     "output_type": "stream",
     "text": [
      "B\n",
      "B*1=B\n",
      "B*2=16\n",
      "B*3=21\n",
      "B*4=2C\n",
      "B*5=37\n",
      "B*6=42\n",
      "B*7=4D\n",
      "B*8=58\n",
      "B*9=63\n",
      "B*A=6E\n",
      "B*B=79\n",
      "B*C=84\n",
      "B*D=8F\n",
      "B*E=9A\n",
      "B*F=A5\n"
     ]
    }
   ],
   "source": [
    "n = int(input(), 16)\n",
    "\n",
    "for i in range(1, 16):\n",
    "    print(\"%X*%X=%X\" %(n, i, (n*i)))"
   ]
  },
  {
   "cell_type": "code",
   "execution_count": 43,
   "id": "72465ddc",
   "metadata": {},
   "outputs": [
    {
     "name": "stdout",
     "output_type": "stream",
     "text": [
      "9\n",
      "1 2 X 4 5 X 7 8 X "
     ]
    }
   ],
   "source": [
    "n = int(input())\n",
    "\n",
    "for i in range(1,n+1):\n",
    "    if i % 10 in [3,6,9]:\n",
    "        print(\"X\", end = ' ')\n",
    "    else:\n",
    "        print(i, end = ' ')"
   ]
  },
  {
   "cell_type": "code",
   "execution_count": 44,
   "id": "d2809261",
   "metadata": {},
   "outputs": [
    {
     "name": "stdout",
     "output_type": "stream",
     "text": [
      "2 2 2\n",
      "0 0 0\n",
      "0 0 1\n",
      "0 1 0\n",
      "0 1 1\n",
      "1 0 0\n",
      "1 0 1\n",
      "1 1 0\n",
      "1 1 1\n",
      "8\n"
     ]
    }
   ],
   "source": [
    "a, b, c = input().split()\n",
    "a, b, c = int(a),int(b),int(c)\n",
    "\n",
    "s = 0\n",
    "for i in range(a):\n",
    "    for j in range(b):\n",
    "        for k in range(c):\n",
    "            print(i, j, k)\n",
    "            s += 1\n",
    "            \n",
    "print(s)"
   ]
  },
  {
   "cell_type": "code",
   "execution_count": null,
   "id": "5171380d",
   "metadata": {},
   "outputs": [],
   "source": [
    "format((a+b+c)/3, \".2f\")"
   ]
  },
  {
   "cell_type": "code",
   "execution_count": 47,
   "id": "3acac7e6",
   "metadata": {},
   "outputs": [
    {
     "name": "stdout",
     "output_type": "stream",
     "text": [
      "44100 16 2 10\n",
      "1.7 MB\n"
     ]
    }
   ],
   "source": [
    "a, b, c, d = input().split()\n",
    "a, b, c, d = int(a),int(b),int(c), int(d)\n",
    "\n",
    "print(format(a*b*c*d/8/1024/1024, '.1f'), 'MB')"
   ]
  },
  {
   "cell_type": "code",
   "execution_count": 49,
   "id": "0cc37ef0",
   "metadata": {},
   "outputs": [
    {
     "name": "stdout",
     "output_type": "stream",
     "text": [
      "1024 768 24\n",
      "2.25 MB\n"
     ]
    }
   ],
   "source": [
    "a, b, c = input().split()\n",
    "a, b, c = int(a),int(b),int(c)\n",
    "\n",
    "print(format(a*b*c/8/1024/1024, '.2f'), 'MB')"
   ]
  },
  {
   "cell_type": "code",
   "execution_count": 51,
   "id": "57755ae5",
   "metadata": {},
   "outputs": [
    {
     "name": "stdout",
     "output_type": "stream",
     "text": [
      "57\n",
      "66\n"
     ]
    }
   ],
   "source": [
    "n = int(input())\n",
    "\n",
    "i = 1\n",
    "summation = 0\n",
    "while True:\n",
    "    summation += i\n",
    "    i += 1\n",
    "    if summation >= n:\n",
    "        print(summation)\n",
    "        break"
   ]
  },
  {
   "cell_type": "code",
   "execution_count": 53,
   "id": "7dd25f47",
   "metadata": {},
   "outputs": [
    {
     "name": "stdout",
     "output_type": "stream",
     "text": [
      "10\n",
      "1 2 4 5 7 8 10 "
     ]
    }
   ],
   "source": [
    "n = int(input())\n",
    "\n",
    "for i in range(1,n+1):\n",
    "    if i % 3 == 0:\n",
    "        pass\n",
    "    else:\n",
    "        print(i, end = ' ')"
   ]
  },
  {
   "cell_type": "code",
   "execution_count": 54,
   "id": "6f208240",
   "metadata": {},
   "outputs": [
    {
     "name": "stdout",
     "output_type": "stream",
     "text": [
      "1 3 5\n",
      "13\n"
     ]
    }
   ],
   "source": [
    "a, b, c = input().split()\n",
    "a, b, c = int(a),int(b),int(c)\n",
    "\n",
    "print(a+b*(c-1))"
   ]
  },
  {
   "cell_type": "code",
   "execution_count": 60,
   "id": "6a46286f",
   "metadata": {},
   "outputs": [
    {
     "name": "stdout",
     "output_type": "stream",
     "text": [
      "2 3 7\n",
      "1458\n"
     ]
    }
   ],
   "source": [
    "a, b, c = input().split()\n",
    "a, b, c = int(a),int(b),int(c)\n",
    "\n",
    "print(a*b**(c-1))"
   ]
  },
  {
   "cell_type": "code",
   "execution_count": 62,
   "id": "3c6def7d",
   "metadata": {},
   "outputs": [
    {
     "name": "stdout",
     "output_type": "stream",
     "text": [
      "1 -2 1 8\n",
      "-85\n"
     ]
    }
   ],
   "source": [
    "a, b, c, d = input().split()\n",
    "a, b, c, d = int(a),int(b),int(c), int(d)\n",
    "\n",
    "for i in range(d-1):\n",
    "    a = a*b+c\n",
    "    \n",
    "print(a)"
   ]
  },
  {
   "cell_type": "code",
   "execution_count": 64,
   "id": "63e993c3",
   "metadata": {},
   "outputs": [
    {
     "name": "stdout",
     "output_type": "stream",
     "text": [
      "3 7 9\n",
      "63\n"
     ]
    }
   ],
   "source": [
    "a, b, c = input().split()\n",
    "a, b, c = int(a),int(b),int(c)\n",
    "\n",
    "ans = 1\n",
    "while True:\n",
    "    if (ans % a != 0) or (ans % b != 0) or (ans % c != 0):\n",
    "        ans += 1\n",
    "    else:\n",
    "        print(ans)\n",
    "        break"
   ]
  },
  {
   "cell_type": "code",
   "execution_count": 70,
   "id": "4da86d1f",
   "metadata": {},
   "outputs": [
    {
     "name": "stdout",
     "output_type": "stream",
     "text": [
      "10\n",
      "1 3 2 2 5 6 7 4 5 9\n",
      "1 2 1 1 2 1 1 0 1 0 0 0 0 0 0 0 0 0 0 0 0 0 0 "
     ]
    }
   ],
   "source": [
    "n = int(input())     \n",
    "a = input().split()  \n",
    "\n",
    "result = [0]*23\n",
    "for i in range(n):\n",
    "    s = int(a[i])\n",
    "    result[s-1] = result[s-1]+1\n",
    "\n",
    "for i in result:\n",
    "    print(i, end = ' ')"
   ]
  },
  {
   "cell_type": "code",
   "execution_count": 71,
   "id": "6892cc4a",
   "metadata": {},
   "outputs": [
    {
     "name": "stdout",
     "output_type": "stream",
     "text": [
      "10\n",
      "10 4 2 3 6 6 7 9 8 5\n",
      "5 8 9 7 6 6 3 2 4 10 "
     ]
    }
   ],
   "source": [
    "n = int(input())     \n",
    "a = input().split()  \n",
    "\n",
    "for i in a[::-1]:\n",
    "    print(i, end = ' ')"
   ]
  },
  {
   "cell_type": "code",
   "execution_count": 72,
   "id": "5539770c",
   "metadata": {},
   "outputs": [
    {
     "name": "stdout",
     "output_type": "stream",
     "text": [
      "10\n",
      "10 4 2 3 6 6 7 9 8 5\n",
      "2\n"
     ]
    }
   ],
   "source": [
    "n = int(input())     \n",
    "a = input().split() \n",
    "\n",
    "ans = 10000\n",
    "for i in a:\n",
    "    if int(i) < ans:\n",
    "        ans = int(i)\n",
    "    \n",
    "print(ans)"
   ]
  },
  {
   "cell_type": "code",
   "execution_count": 100,
   "id": "78a1d3a2",
   "metadata": {
    "scrolled": true
   },
   "outputs": [
    {
     "name": "stdout",
     "output_type": "stream",
     "text": [
      "2\n",
      "1 1\n",
      "2 2\n",
      "1 0 0 0 0 0 0 0 0 0 0 0 0 0 0 0 0 0 0 \n",
      "0 1 0 0 0 0 0 0 0 0 0 0 0 0 0 0 0 0 0 \n",
      "0 0 0 0 0 0 0 0 0 0 0 0 0 0 0 0 0 0 0 \n",
      "0 0 0 0 0 0 0 0 0 0 0 0 0 0 0 0 0 0 0 \n",
      "0 0 0 0 0 0 0 0 0 0 0 0 0 0 0 0 0 0 0 \n",
      "0 0 0 0 0 0 0 0 0 0 0 0 0 0 0 0 0 0 0 \n",
      "0 0 0 0 0 0 0 0 0 0 0 0 0 0 0 0 0 0 0 \n",
      "0 0 0 0 0 0 0 0 0 0 0 0 0 0 0 0 0 0 0 \n",
      "0 0 0 0 0 0 0 0 0 0 0 0 0 0 0 0 0 0 0 \n",
      "0 0 0 0 0 0 0 0 0 0 0 0 0 0 0 0 0 0 0 \n",
      "0 0 0 0 0 0 0 0 0 0 0 0 0 0 0 0 0 0 0 \n",
      "0 0 0 0 0 0 0 0 0 0 0 0 0 0 0 0 0 0 0 \n",
      "0 0 0 0 0 0 0 0 0 0 0 0 0 0 0 0 0 0 0 \n",
      "0 0 0 0 0 0 0 0 0 0 0 0 0 0 0 0 0 0 0 \n",
      "0 0 0 0 0 0 0 0 0 0 0 0 0 0 0 0 0 0 0 \n",
      "0 0 0 0 0 0 0 0 0 0 0 0 0 0 0 0 0 0 0 \n",
      "0 0 0 0 0 0 0 0 0 0 0 0 0 0 0 0 0 0 0 \n",
      "0 0 0 0 0 0 0 0 0 0 0 0 0 0 0 0 0 0 0 \n",
      "0 0 0 0 0 0 0 0 0 0 0 0 0 0 0 0 0 0 0 \n"
     ]
    }
   ],
   "source": [
    "n = int(input())     \n",
    "\n",
    "ans = [[0 for j in range(19)] for i in range(19)]\n",
    "\n",
    "for i in range(n):\n",
    "    x, y = list(map(int, input().split()))\n",
    "    ans[x-1][y-1] = 1\n",
    "    \n",
    "    \n",
    "for i in ans:\n",
    "    for j in i:\n",
    "        print(j, end = ' ')\n",
    "    print()"
   ]
  },
  {
   "cell_type": "code",
   "execution_count": 113,
   "id": "5183da60",
   "metadata": {},
   "outputs": [
    {
     "name": "stdout",
     "output_type": "stream",
     "text": [
      "0 0 0 0 0 0 0 0 0 1 0 1 0 0 0 0 0 0 0\n",
      "0 0 0 0 0 0 0 0 0 1 0 1 0 0 0 0 0 0 0\n",
      "0 0 0 0 0 0 0 0 0 1 0 1 0 0 0 0 0 0 0\n",
      "0 0 0 0 0 0 0 0 0 1 0 1 0 0 0 0 0 0 0\n",
      "0 0 0 0 0 0 0 0 0 1 0 1 0 0 0 0 0 0 0\n",
      "0 0 0 0 0 0 0 0 0 1 0 1 0 0 0 0 0 0 0\n",
      "0 0 0 0 0 0 0 0 0 1 0 1 0 0 0 0 0 0 0\n",
      "0 0 0 0 0 0 0 0 0 1 0 1 0 0 0 0 0 0 0\n",
      "0 0 0 0 0 0 0 0 0 1 0 1 0 0 0 0 0 0 0\n",
      "1 1 1 1 1 1 1 1 1 1 1 1 1 1 1 1 1 1 1\n",
      "0 0 0 0 0 0 0 0 0 1 0 1 0 0 0 0 0 0 0\n",
      "1 1 1 1 1 1 1 1 1 1 1 1 1 1 1 1 1 1 1\n",
      "0 0 0 0 0 0 0 0 0 1 0 1 0 0 0 0 0 0 0\n",
      "0 0 0 0 0 0 0 0 0 1 0 1 0 0 0 0 0 0 0\n",
      "0 0 0 0 0 0 0 0 0 1 0 1 0 0 0 0 0 0 0\n",
      "0 0 0 0 0 0 0 0 0 1 0 1 0 0 0 0 0 0 0\n",
      "0 0 0 0 0 0 0 0 0 1 0 1 0 0 0 0 0 0 0\n",
      "0 0 0 0 0 0 0 0 0 1 0 1 0 0 0 0 0 0 0\n",
      "0 0 0 0 0 0 0 0 0 1 0 1 0 0 0 0 0 0 0\n",
      "1\n",
      "10 10\n",
      "0 0 0 0 0 0 0 0 0 0 0 1 0 0 0 0 0 0 0 \n",
      "0 0 0 0 0 0 0 0 0 0 0 1 0 0 0 0 0 0 0 \n",
      "0 0 0 0 0 0 0 0 0 0 0 1 0 0 0 0 0 0 0 \n",
      "0 0 0 0 0 0 0 0 0 0 0 1 0 0 0 0 0 0 0 \n",
      "0 0 0 0 0 0 0 0 0 0 0 1 0 0 0 0 0 0 0 \n",
      "0 0 0 0 0 0 0 0 0 0 0 1 0 0 0 0 0 0 0 \n",
      "0 0 0 0 0 0 0 0 0 0 0 1 0 0 0 0 0 0 0 \n",
      "0 0 0 0 0 0 0 0 0 0 0 1 0 0 0 0 0 0 0 \n",
      "0 0 0 0 0 0 0 0 0 0 0 1 0 0 0 0 0 0 0 \n",
      "0 0 0 0 0 0 0 0 0 1 0 0 0 0 0 0 0 0 0 \n",
      "0 0 0 0 0 0 0 0 0 0 0 1 0 0 0 0 0 0 0 \n",
      "1 1 1 1 1 1 1 1 1 0 1 1 1 1 1 1 1 1 1 \n",
      "0 0 0 0 0 0 0 0 0 0 0 1 0 0 0 0 0 0 0 \n",
      "0 0 0 0 0 0 0 0 0 0 0 1 0 0 0 0 0 0 0 \n",
      "0 0 0 0 0 0 0 0 0 0 0 1 0 0 0 0 0 0 0 \n",
      "0 0 0 0 0 0 0 0 0 0 0 1 0 0 0 0 0 0 0 \n",
      "0 0 0 0 0 0 0 0 0 0 0 1 0 0 0 0 0 0 0 \n",
      "0 0 0 0 0 0 0 0 0 0 0 1 0 0 0 0 0 0 0 \n",
      "0 0 0 0 0 0 0 0 0 0 0 1 0 0 0 0 0 0 0 \n"
     ]
    }
   ],
   "source": [
    "ans = []\n",
    "for i in range(19):\n",
    "    ans.append(list(map(int, input().split())))\n",
    "    \n",
    "    \n",
    "n = int(input())\n",
    "\n",
    "for i in range(n):\n",
    "    x, y = list(map(int, input().split()))\n",
    "    x -= 1\n",
    "    y -= 1\n",
    "    for j in range(19): \n",
    "        if ans[x][j] == 1:\n",
    "             ans[x][j] = 0\n",
    "        else:\n",
    "            ans[x][j] = 1\n",
    "    for k in range(19):\n",
    "        if ans[k][y] == 1:\n",
    "             ans[k][y] = 0\n",
    "        else:\n",
    "            ans[k][y] = 1\n",
    "            \n",
    "        \n",
    "for i in ans:\n",
    "    for j in i:\n",
    "        print(j, end = ' ')\n",
    "    print()"
   ]
  },
  {
   "cell_type": "code",
   "execution_count": 106,
   "id": "8e658476",
   "metadata": {},
   "outputs": [
    {
     "name": "stdout",
     "output_type": "stream",
     "text": [
      "5 5\n",
      "3\n",
      "2 0 1 1\n",
      "3 1 2 3\n",
      "4 1 2 5\n",
      "1 1 0 0 0 \n",
      "0 0 1 0 1 \n",
      "0 0 1 0 1 \n",
      "0 0 1 0 1 \n",
      "0 0 0 0 1 \n"
     ]
    }
   ],
   "source": [
    "a, b = input().split()\n",
    "\n",
    "ans = [[0 for j in range(int(b))] for i in range(int(a))]\n",
    "\n",
    "n = int(input())\n",
    "\n",
    "for i in range(n):\n",
    "    l, d, x, y = list(map(int, input().split()))\n",
    "    if d == 0:\n",
    "        for j in range(l):\n",
    "            ans[x-1][y-1] = 1\n",
    "            y += 1\n",
    "    else:\n",
    "        for j in range(l):\n",
    "            ans[x-1][y-1] = 1\n",
    "            x += 1\n",
    "            \n",
    "for i in ans:\n",
    "    for j in i:\n",
    "        print(j, end = ' ')\n",
    "    print()"
   ]
  },
  {
   "cell_type": "code",
   "execution_count": 108,
   "id": "61ac565d",
   "metadata": {
    "scrolled": true
   },
   "outputs": [
    {
     "name": "stdout",
     "output_type": "stream",
     "text": [
      "1 1 1 1 1 1 1 1 1 1\n",
      "1 0 0 1 0 0 0 0 0 1\n",
      "1 0 0 1 1 1 0 0 0 1\n",
      "1 0 0 0 0 0 0 1 0 1\n",
      "1 0 0 0 0 0 0 1 0 1\n",
      "1 0 0 0 0 1 0 1 0 1\n",
      "1 0 0 0 0 1 2 1 0 1\n",
      "1 0 0 0 0 1 0 0 0 1\n",
      "1 0 0 0 0 0 0 0 0 1\n",
      "1 1 1 1 1 1 1 1 1 1\n",
      "1 1 1 1 1 1 1 1 1 1 \n",
      "1 9 9 1 0 0 0 0 0 1 \n",
      "1 0 0 1 1 1 0 0 0 1 \n",
      "1 0 0 0 0 0 0 1 0 1 \n",
      "1 0 0 0 0 0 0 1 0 1 \n",
      "1 0 0 0 0 1 0 1 0 1 \n",
      "1 0 0 0 0 1 2 1 0 1 \n",
      "1 0 0 0 0 1 0 0 0 1 \n",
      "1 0 0 0 0 0 0 0 0 1 \n",
      "1 1 1 1 1 1 1 1 1 1 \n"
     ]
    }
   ],
   "source": [
    "ans = []\n",
    "for i in range(10):\n",
    "    ans.append(list(map(int, input().split())))\n",
    "    \n",
    "    \n",
    "x, y = 1, 1\n",
    "while True:\n",
    "    if ans[x][y] == 2:\n",
    "        ans[x][y] = 9\n",
    "        break\n",
    "    else:\n",
    "        ans[x][y] = 9\n",
    "        if ans[x][y+1] != 1:\n",
    "            y += 1\n",
    "            continue\n",
    "        elif ans[x+1][y] != 1:\n",
    "            x += 1\n",
    "            continue\n",
    "        else:\n",
    "            break    \n",
    "    \n",
    "for i in ans:\n",
    "    for j in i:\n",
    "        print(j, end = ' ')\n",
    "    print()"
   ]
  }
 ],
 "metadata": {
  "kernelspec": {
   "display_name": "PyTorch",
   "language": "python",
   "name": "pytorch"
  },
  "language_info": {
   "codemirror_mode": {
    "name": "ipython",
    "version": 3
   },
   "file_extension": ".py",
   "mimetype": "text/x-python",
   "name": "python",
   "nbconvert_exporter": "python",
   "pygments_lexer": "ipython3",
   "version": "3.7.11"
  }
 },
 "nbformat": 4,
 "nbformat_minor": 5
}
