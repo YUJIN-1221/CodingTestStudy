{
 "cells": [
  {
   "cell_type": "code",
   "execution_count": 1,
   "id": "e9bab55a",
   "metadata": {},
   "outputs": [
    {
     "name": "stdout",
     "output_type": "stream",
     "text": [
      "2012\n",
      "Leap\n"
     ]
    }
   ],
   "source": [
    "n = int(input())\n",
    "\n",
    "if n % 400 == 0:\n",
    "    print('Leap')\n",
    "else:\n",
    "    if (n % 4 == 0) & (n % 100 != 0):\n",
    "        print('Leap')\n",
    "    else: \n",
    "        print('Normal')"
   ]
  },
  {
   "cell_type": "code",
   "execution_count": 4,
   "id": "54875d1e",
   "metadata": {},
   "outputs": [
    {
     "name": "stdout",
     "output_type": "stream",
     "text": [
      "12 0\n",
      "11 30\n"
     ]
    }
   ],
   "source": [
    "h, m = list(map(int, input().split()))\n",
    "\n",
    "if m >= 30:\n",
    "    print(h, m-30)\n",
    "else:\n",
    "    if h > 0:\n",
    "        print(h-1, 30+m)\n",
    "    else:\n",
    "        print(23, 30+m)"
   ]
  },
  {
   "cell_type": "code",
   "execution_count": 5,
   "id": "9bef346c",
   "metadata": {},
   "outputs": [
    {
     "name": "stdout",
     "output_type": "stream",
     "text": [
      "932\n",
      "3\n"
     ]
    }
   ],
   "source": [
    "n = input()\n",
    "\n",
    "print(len(n))"
   ]
  },
  {
   "cell_type": "code",
   "execution_count": 9,
   "id": "4d0e3c9a",
   "metadata": {},
   "outputs": [
    {
     "name": "stdout",
     "output_type": "stream",
     "text": [
      "3\n",
      "7\n",
      "-4\n",
      "-6\n",
      "5\n",
      "7\n",
      "-6\n"
     ]
    }
   ],
   "source": [
    "for i in range(5):\n",
    "    if i == 0:\n",
    "        s = int(input())\n",
    "        M = s\n",
    "        m = s\n",
    "    else:\n",
    "        s = int(input())\n",
    "        if M < s:\n",
    "            M = s\n",
    "        else: \n",
    "            pass\n",
    "        if m > s:\n",
    "            m = s\n",
    "        else:\n",
    "            pass\n",
    "        \n",
    "print(M)\n",
    "print(m)"
   ]
  },
  {
   "cell_type": "code",
   "execution_count": 33,
   "id": "3268f973",
   "metadata": {},
   "outputs": [
    {
     "name": "stdout",
     "output_type": "stream",
     "text": [
      "10 1\n",
      "**********\n",
      "**********\n",
      "**********\n",
      "**********\n",
      "**********\n",
      "**********\n",
      "**********\n",
      "**********\n",
      "**********\n",
      "**********\n"
     ]
    }
   ],
   "source": [
    "n, k = list(map(int, input().split()))\n",
    "\n",
    "\n",
    "for i in range(n):\n",
    "    if (i == 0) or (i == n-1):\n",
    "        for j in range(n):\n",
    "            print('*', end = '')\n",
    "    else:\n",
    "        for j in range(n):\n",
    "            if (j == 0) or (j == n-1):\n",
    "                print('*', end = '')\n",
    "            elif (j+i+1) % k == 0:\n",
    "                print('*', end = '')\n",
    "            else:\n",
    "                print(' ', end = '')\n",
    "    print()"
   ]
  },
  {
   "cell_type": "code",
   "execution_count": 34,
   "id": "e9a02407",
   "metadata": {},
   "outputs": [
    {
     "name": "stdout",
     "output_type": "stream",
     "text": [
      "10\n",
      "3\n",
      "4\n",
      "1\n",
      "10\n",
      "2\n",
      "6\n",
      "7\n",
      "5\n",
      "9\n",
      "8\n"
     ]
    }
   ],
   "source": [
    "n = int(input())\n",
    "\n",
    "card = [i for i in range(1, n+1)]\n",
    "\n",
    "for i in range(n-1):\n",
    "    card.remove(int(input()))\n",
    "    \n",
    "for i in card:\n",
    "    print(i)"
   ]
  },
  {
   "cell_type": "code",
   "execution_count": 34,
   "id": "5276462a",
   "metadata": {},
   "outputs": [
    {
     "name": "stdout",
     "output_type": "stream",
     "text": [
      "1\n",
      "[[0]]\n"
     ]
    }
   ],
   "source": [
    "n = int(input())\n",
    "\n",
    "ans = [[0 for j in range(n)] for i in range(n)]\n",
    "\n",
    "print(ans)"
   ]
  },
  {
   "cell_type": "code",
   "execution_count": 43,
   "id": "1a268be2",
   "metadata": {},
   "outputs": [
    {
     "name": "stdout",
     "output_type": "stream",
     "text": [
      "5\n",
      "17 24 1 8 15 \n",
      "23 5 7 14 16 \n",
      "4 6 13 20 22 \n",
      "10 12 19 21 3 \n",
      "11 18 25 2 9 \n"
     ]
    }
   ],
   "source": [
    "n = int(input())\n",
    "\n",
    "ans = [[0 for j in range(n)] for i in range(n)]\n",
    "\n",
    "x, y = 0, n//2\n",
    "a = 1\n",
    "if n == 1:\n",
    "    ans[0][0] = a\n",
    "else:\n",
    "    while True:  \n",
    "        if (x == 0) & (y == 1):\n",
    "            if ans[x][y] != 0:\n",
    "                break\n",
    "            else:\n",
    "                ans[x][y] = a\n",
    "                a += 1\n",
    "                if x == 0:\n",
    "                    x = n-1\n",
    "                else: \n",
    "                    x -= 1\n",
    "                if y == n-1:\n",
    "                    y = 0\n",
    "                else:\n",
    "                    y += 1\n",
    "                continue        \n",
    "        else:\n",
    "            if a % n == 0:\n",
    "                if ans[x][y] != 0:\n",
    "                    break\n",
    "                else:            \n",
    "                    ans[x][y] = a\n",
    "                    a += 1\n",
    "                    if x == n-1:\n",
    "                        x = 0\n",
    "                    else:\n",
    "                        x += 1\n",
    "            else:\n",
    "                if ans[x][y] != 0:\n",
    "                    break\n",
    "                else:            \n",
    "                    ans[x][y] = a\n",
    "                    a += 1    \n",
    "                    if x == 0:\n",
    "                        x = n-1\n",
    "                    else:\n",
    "                        x -= 1\n",
    "                    if y == n-1:\n",
    "                        y = 0\n",
    "                    else:\n",
    "                        y += 1\n",
    "\n",
    "    \n",
    "for i in ans:\n",
    "    for j in i:\n",
    "        print(j, end = ' ')\n",
    "    print()"
   ]
  },
  {
   "cell_type": "code",
   "execution_count": 72,
   "id": "4912f7d0",
   "metadata": {},
   "outputs": [
    {
     "name": "stdout",
     "output_type": "stream",
     "text": [
      "99 100\n",
      "99 26\n"
     ]
    }
   ],
   "source": [
    "a, b = list(map(int, input().split()))\n",
    "\n",
    "max_length = 1\n",
    "ans = a\n",
    "for n in range(a, b+1):\n",
    "    i = 1\n",
    "    c = n\n",
    "    while True:\n",
    "        if  (c % 2 == 1) and (c != 1):\n",
    "            c = 3*c+1\n",
    "            i += 1\n",
    "        elif c % 2 == 0: \n",
    "            c = c/2\n",
    "            i += 1\n",
    "        else:\n",
    "            if max_length < i:\n",
    "                max_length = i\n",
    "                ans = n\n",
    "                break\n",
    "            else: \n",
    "                break\n",
    "            \n",
    "print(ans, max_length)"
   ]
  },
  {
   "cell_type": "code",
   "execution_count": 48,
   "id": "25086842",
   "metadata": {},
   "outputs": [
    {
     "name": "stdout",
     "output_type": "stream",
     "text": [
      "1 5\n",
      "3 8\n"
     ]
    }
   ],
   "source": [
    "min_range, max_range = map(int,input().split(\" \"))\n",
    "\n",
    "def odd(num):\n",
    "    result = (num * 3) + 1\n",
    "    return int(result)\n",
    "\n",
    "def even(num):\n",
    "    result = num/2\n",
    "    return int(result)\n",
    "\n",
    "collatz_num = {}\n",
    "\n",
    "for i in range(min_range, max_range+1):\n",
    "    number, length = i,1\n",
    "    while number != 1:\n",
    "        if number % 2 == 0:\n",
    "            number = even(number)\n",
    "            length += 1\n",
    "        else:\n",
    "            number = odd(number)\n",
    "            length += 1\n",
    "    collatz_num[i] = length\n",
    "\n",
    "max_key = max(collatz_num, key=collatz_num.get)\n",
    "print(f\"{max_key} {collatz_num[max_key]}\")"
   ]
  },
  {
   "cell_type": "code",
   "execution_count": 47,
   "id": "2195886f",
   "metadata": {
    "scrolled": true
   },
   "outputs": [
    {
     "name": "stdout",
     "output_type": "stream",
     "text": [
      "1024\n",
      "10000000000\n"
     ]
    }
   ],
   "source": [
    "n = int(input())\n",
    "\n",
    "b = bin(n)\n",
    "print(b.split('b')[-1])"
   ]
  },
  {
   "cell_type": "code",
   "execution_count": null,
   "id": "dd6303a7",
   "metadata": {},
   "outputs": [],
   "source": []
  }
 ],
 "metadata": {
  "kernelspec": {
   "display_name": "PyTorch",
   "language": "python",
   "name": "pytorch"
  },
  "language_info": {
   "codemirror_mode": {
    "name": "ipython",
    "version": 3
   },
   "file_extension": ".py",
   "mimetype": "text/x-python",
   "name": "python",
   "nbconvert_exporter": "python",
   "pygments_lexer": "ipython3",
   "version": "3.7.11"
  }
 },
 "nbformat": 4,
 "nbformat_minor": 5
}
