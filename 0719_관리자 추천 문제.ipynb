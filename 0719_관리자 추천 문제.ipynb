{
 "cells": [
  {
   "cell_type": "code",
   "execution_count": 2,
   "id": "068cf412",
   "metadata": {},
   "outputs": [
    {
     "name": "stdout",
     "output_type": "stream",
     "text": [
      "4 10\n",
      "2002\n",
      "10 10\n",
      "167960\n",
      "EOF\n"
     ]
    }
   ],
   "source": [
    "def supersum(k, n):\n",
    "    if k == 0:        \n",
    "        return n\n",
    "    else:\n",
    "        return sum([supersum(k-1, i) for i in range(1,n+1)])\n",
    "    \n",
    "while True:\n",
    "    input_str = input()\n",
    "    if input_str == 'EOF':\n",
    "        break\n",
    "    a,b = list(map(int, input_str.split()))\n",
    "    print(supersum(a,b))"
   ]
  },
  {
   "cell_type": "code",
   "execution_count": 4,
   "id": "d8cc3d18",
   "metadata": {},
   "outputs": [
    {
     "name": "stdout",
     "output_type": "stream",
     "text": [
      "5\n",
      "2 5 8 10 29\n",
      "오름차순\n"
     ]
    }
   ],
   "source": [
    "n = int(input())\n",
    "num_list = list(map(int, input().split()))\n",
    "\n",
    "def ascen(list):\n",
    "    for i in range(n-1):\n",
    "        if list[i] > list[i+1]:\n",
    "            return False\n",
    "    return True\n",
    "\n",
    "def desc(list):\n",
    "    for i in range(n-1):\n",
    "        if list[i] < list[i+1]:\n",
    "            return False\n",
    "    return True\n",
    "\n",
    "if ascen(num_list):\n",
    "    print('오름차순')\n",
    "elif desc(num_list):\n",
    "    print('내림차순')\n",
    "else:\n",
    "    print('섞임')"
   ]
  },
  {
   "cell_type": "code",
   "execution_count": 6,
   "id": "bf907498",
   "metadata": {},
   "outputs": [
    {
     "name": "stdout",
     "output_type": "stream",
     "text": [
      "7\n",
      "7 7 7 7 7 7 7\n",
      "섞임\n"
     ]
    }
   ],
   "source": [
    "n = int(input())\n",
    "num_list = list(map(int, input().split()))\n",
    "\n",
    "def ascen(list):\n",
    "    for i in range(n-1):\n",
    "        if list[i] > list[i+1]:\n",
    "            return False\n",
    "    return True\n",
    "\n",
    "def desc(list):\n",
    "    for i in range(n-1):\n",
    "        if list[i] < list[i+1]:\n",
    "            return False\n",
    "    return True\n",
    "\n",
    "def same(list):\n",
    "    for i in range(n-1):\n",
    "        if list[i] != list[i+1]:\n",
    "            return False\n",
    "    return True\n",
    "\n",
    "if same(num_list):\n",
    "    print('섞임')\n",
    "elif ascen(num_list):\n",
    "    print('오름차순')\n",
    "elif desc(num_list):\n",
    "    print('내림차순')\n",
    "else:\n",
    "    print('섞임')"
   ]
  },
  {
   "cell_type": "code",
   "execution_count": 9,
   "id": "1b3c7298",
   "metadata": {},
   "outputs": [
    {
     "name": "stdout",
     "output_type": "stream",
     "text": [
      "1 3\n",
      "0\n"
     ]
    }
   ],
   "source": [
    "k, n = list(map(int, input().split()))\n",
    "\n",
    "ans = 0\n",
    "while True:\n",
    "    if k // n == 0:\n",
    "        break\n",
    "    ans += k // n\n",
    "    k = k - k // n * n + k // n\n",
    "    continue\n",
    "\n",
    "print(ans)"
   ]
  },
  {
   "cell_type": "code",
   "execution_count": 32,
   "id": "da1f1db8",
   "metadata": {},
   "outputs": [
    {
     "name": "stdout",
     "output_type": "stream",
     "text": [
      "8\n",
      "12345678\n",
      "12,345,678\n"
     ]
    }
   ],
   "source": [
    "l = int(input())\n",
    "n_list = list(input())\n",
    "\n",
    "comm = l // 3\n",
    "comm_f = l % 3\n",
    "\n",
    "ans = []\n",
    "for i in range(l):\n",
    "    if i == comm_f:\n",
    "        if i != 0:\n",
    "            ans.append(',')\n",
    "            ans.append(n_list[i])\n",
    "        else:\n",
    "            ans.append(n_list[i])\n",
    "    elif (i-comm_f) % 3 == 0:\n",
    "        ans.append(',')\n",
    "        ans.append(n_list[i])\n",
    "    else:\n",
    "        ans.append(n_list[i])\n",
    "    \n",
    "print(''.join(ans))"
   ]
  },
  {
   "cell_type": "code",
   "execution_count": 40,
   "id": "475b4eac",
   "metadata": {},
   "outputs": [
    {
     "name": "stdout",
     "output_type": "stream",
     "text": [
      "3 2\n",
      "1 2\n",
      "2 3\n",
      "1\n",
      "3\n"
     ]
    }
   ],
   "source": [
    "k, n = list(map(int, input().split()))  # 세로, 가로\n",
    "\n",
    "lad = []\n",
    "for i in range(n):\n",
    "    lad.append(tuple(map(int, input().split())))\n",
    "    \n",
    "start = int(input())\n",
    "\n",
    "while True:\n",
    "    if len(lad) == 0:\n",
    "        break\n",
    "    s, e = lad.pop(0)\n",
    "    if s == start:\n",
    "        start = e\n",
    "    elif e == start:\n",
    "        start = s\n",
    "    else:\n",
    "        continue\n",
    "            \n",
    "print(start)"
   ]
  },
  {
   "cell_type": "code",
   "execution_count": null,
   "id": "049cd381",
   "metadata": {},
   "outputs": [],
   "source": []
  }
 ],
 "metadata": {
  "kernelspec": {
   "display_name": "tensorflow2_py37",
   "language": "python",
   "name": "tensorflow2_py37"
  },
  "language_info": {
   "codemirror_mode": {
    "name": "ipython",
    "version": 3
   },
   "file_extension": ".py",
   "mimetype": "text/x-python",
   "name": "python",
   "nbconvert_exporter": "python",
   "pygments_lexer": "ipython3",
   "version": "3.7.11"
  }
 },
 "nbformat": 4,
 "nbformat_minor": 5
}
